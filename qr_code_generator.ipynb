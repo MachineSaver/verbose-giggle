{
  "nbformat": 4,
  "nbformat_minor": 0,
  "metadata": {
    "colab": {
      "provenance": [],
      "authorship_tag": "ABX9TyMngXAlijkKGeQ2OKcHMmAV",
      "include_colab_link": true
    },
    "kernelspec": {
      "name": "python3",
      "display_name": "Python 3"
    },
    "language_info": {
      "name": "python"
    }
  },
  "cells": [
    {
      "cell_type": "markdown",
      "metadata": {
        "id": "view-in-github",
        "colab_type": "text"
      },
      "source": [
        "<a href=\"https://colab.research.google.com/github/MachineSaver/verbose-giggle/blob/main/qr_code_generator.ipynb\" target=\"_parent\"><img src=\"https://colab.research.google.com/assets/colab-badge.svg\" alt=\"Open In Colab\"/></a>"
      ]
    },
    {
      "cell_type": "code",
      "execution_count": 3,
      "metadata": {
        "colab": {
          "base_uri": "https://localhost:8080/",
          "height": 317
        },
        "id": "1kA5o6EkUmiT",
        "outputId": "921f823e-23f1-4561-c5ec-c6d01b71806d"
      },
      "outputs": [
        {
          "output_type": "stream",
          "name": "stdout",
          "text": [
            "Looking in indexes: https://pypi.org/simple, https://us-python.pkg.dev/colab-wheels/public/simple/\n",
            "Requirement already satisfied: qrcode in /usr/local/lib/python3.8/dist-packages (7.4.2)\n",
            "Requirement already satisfied: typing-extensions in /usr/local/lib/python3.8/dist-packages (from qrcode) (4.5.0)\n",
            "Requirement already satisfied: pypng in /usr/local/lib/python3.8/dist-packages (from qrcode) (0.20220715.0)\n"
          ]
        },
        {
          "output_type": "display_data",
          "data": {
            "text/plain": [
              "<Figure size 432x288 with 1 Axes>"
            ],
            "image/png": "[encoded data removed]"
          },
          "metadata": {
            "needs_background": "light"
          }
        }
      ],
      "source": [
        "from ipywidgets import interact\n",
        "import os\n",
        "from google.colab import drive\n",
        "\n",
        "def setup_google_drive():\n",
        "  drive.mount(\"/content/gdrive\")\n",
        "\n",
        "def clone_data_msgithub():\n",
        "  ! git clone \n",
        "\n",
        "def set_directory():\n",
        "  %cd shiny-chainsaw/\n",
        "\n",
        "import random\n",
        "import string\n",
        "def create_random()\n",
        "# Define the length of the random string\n",
        "  string_length = 16\n",
        "# Define the set of characters to use in the random string\n",
        "  characters = string.ascii_letters + string.digits\n",
        "# Generate the random string\n",
        "  random_string = ''.join(random.choice(characters) for i in range(string_length))\n",
        "\n",
        "print(random_string)\n",
        "\n",
        "!pip install qrcode\n",
        "import qrcode\n",
        "import matplotlib.pyplot as plt\n",
        "\n",
        "\n",
        "\n",
        "# Enter the data you want to encode in the QR code\n",
        "data = \"https://library.machinesaver.com/books/proxitouch/page/proxitouch-quick-start-guide\"\n",
        "\n",
        "# Generate the QR code image\n",
        "img = qrcode.make(data)\n",
        "\n",
        "# Display the QR code image\n",
        "plt.imshow(img, cmap='gray')\n",
        "plt.axis('off')\n",
        "plt.show()\n",
        "\n",
        "def main():\n",
        "  setup_google_drive()\n",
        "  clone_data_msgithub()\n",
        "  set_directory()\n",
        "  \n",
        "if(__name__==\"__main__\"):\n",
        "  main()"
      ]
    }
  ]
}